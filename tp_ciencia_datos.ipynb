{
 "cells": [
  {
   "cell_type": "code",
   "execution_count": 32,
   "metadata": {},
   "outputs": [
    {
     "data": {
      "text/html": [
       "<div>\n",
       "<style scoped>\n",
       "    .dataframe tbody tr th:only-of-type {\n",
       "        vertical-align: middle;\n",
       "    }\n",
       "\n",
       "    .dataframe tbody tr th {\n",
       "        vertical-align: top;\n",
       "    }\n",
       "\n",
       "    .dataframe thead th {\n",
       "        text-align: right;\n",
       "    }\n",
       "</style>\n",
       "<table border=\"1\" class=\"dataframe\">\n",
       "  <thead>\n",
       "    <tr style=\"text-align: right;\">\n",
       "      <th></th>\n",
       "      <th>type</th>\n",
       "      <th>fixed acidity</th>\n",
       "      <th>volatile acidity</th>\n",
       "      <th>citric acid</th>\n",
       "      <th>residual sugar</th>\n",
       "      <th>chlorides</th>\n",
       "      <th>free sulfur dioxide</th>\n",
       "      <th>total sulfur dioxide</th>\n",
       "      <th>density</th>\n",
       "      <th>pH</th>\n",
       "      <th>sulphates</th>\n",
       "      <th>alcohol</th>\n",
       "      <th>quality</th>\n",
       "    </tr>\n",
       "  </thead>\n",
       "  <tbody>\n",
       "    <tr>\n",
       "      <th>0</th>\n",
       "      <td>Viogner</td>\n",
       "      <td>7.4</td>\n",
       "      <td>0.19</td>\n",
       "      <td>0.49</td>\n",
       "      <td>6.7</td>\n",
       "      <td>0.037</td>\n",
       "      <td>15.0</td>\n",
       "      <td>110.0</td>\n",
       "      <td>0.9938</td>\n",
       "      <td>3.20</td>\n",
       "      <td>0.38</td>\n",
       "      <td>11</td>\n",
       "      <td>7</td>\n",
       "    </tr>\n",
       "    <tr>\n",
       "      <th>1</th>\n",
       "      <td>Viogner</td>\n",
       "      <td>8.3</td>\n",
       "      <td>0.25</td>\n",
       "      <td>0.49</td>\n",
       "      <td>16.8</td>\n",
       "      <td>0.048</td>\n",
       "      <td>50.0</td>\n",
       "      <td>228.0</td>\n",
       "      <td>10.0010</td>\n",
       "      <td>3.03</td>\n",
       "      <td>0.52</td>\n",
       "      <td>9.2</td>\n",
       "      <td>6</td>\n",
       "    </tr>\n",
       "    <tr>\n",
       "      <th>2</th>\n",
       "      <td>Viogner</td>\n",
       "      <td>7.5</td>\n",
       "      <td>0.14</td>\n",
       "      <td>0.74</td>\n",
       "      <td>1.6</td>\n",
       "      <td>0.035</td>\n",
       "      <td>21.0</td>\n",
       "      <td>126.0</td>\n",
       "      <td>0.9933</td>\n",
       "      <td>3.26</td>\n",
       "      <td>0.45</td>\n",
       "      <td>10.2</td>\n",
       "      <td>6</td>\n",
       "    </tr>\n",
       "    <tr>\n",
       "      <th>3</th>\n",
       "      <td>Viogner</td>\n",
       "      <td>7.8</td>\n",
       "      <td>0.49</td>\n",
       "      <td>0.49</td>\n",
       "      <td>7.0</td>\n",
       "      <td>0.043</td>\n",
       "      <td>29.0</td>\n",
       "      <td>149.0</td>\n",
       "      <td>0.9952</td>\n",
       "      <td>3.21</td>\n",
       "      <td>0.33</td>\n",
       "      <td>10</td>\n",
       "      <td>5</td>\n",
       "    </tr>\n",
       "    <tr>\n",
       "      <th>4</th>\n",
       "      <td>Viogner</td>\n",
       "      <td>8.1</td>\n",
       "      <td>0.12</td>\n",
       "      <td>0.49</td>\n",
       "      <td>1.2</td>\n",
       "      <td>0.042</td>\n",
       "      <td>43.0</td>\n",
       "      <td>160.0</td>\n",
       "      <td>0.9934</td>\n",
       "      <td>3.13</td>\n",
       "      <td>0.48</td>\n",
       "      <td>9.7</td>\n",
       "      <td>6</td>\n",
       "    </tr>\n",
       "  </tbody>\n",
       "</table>\n",
       "</div>"
      ],
      "text/plain": [
       "      type  fixed acidity  volatile acidity  citric acid  residual sugar  \\\n",
       "0  Viogner            7.4              0.19         0.49             6.7   \n",
       "1  Viogner            8.3              0.25         0.49            16.8   \n",
       "2  Viogner            7.5              0.14         0.74             1.6   \n",
       "3  Viogner            7.8              0.49         0.49             7.0   \n",
       "4  Viogner            8.1              0.12         0.49             1.2   \n",
       "\n",
       "   chlorides  free sulfur dioxide  total sulfur dioxide  density    pH  \\\n",
       "0      0.037                 15.0                 110.0   0.9938  3.20   \n",
       "1      0.048                 50.0                 228.0  10.0010  3.03   \n",
       "2      0.035                 21.0                 126.0   0.9933  3.26   \n",
       "3      0.043                 29.0                 149.0   0.9952  3.21   \n",
       "4      0.042                 43.0                 160.0   0.9934  3.13   \n",
       "\n",
       "   sulphates alcohol  quality  \n",
       "0       0.38      11        7  \n",
       "1       0.52     9.2        6  \n",
       "2       0.45    10.2        6  \n",
       "3       0.33      10        5  \n",
       "4       0.48     9.7        6  "
      ]
     },
     "execution_count": 32,
     "metadata": {},
     "output_type": "execute_result"
    }
   ],
   "source": [
    "import pandas as pd\n",
    "raw_dataframe = pd.read_csv('winequality_BE.csv', delimiter = \";\")\n",
    "raw_dataframe.head()"
   ]
  },
  {
   "cell_type": "code",
   "execution_count": 33,
   "metadata": {},
   "outputs": [],
   "source": [
    "\n",
    "raw_dataframe['alcohol'] = raw_dataframe['alcohol'].apply(lambda x: x.replace('.', ',', 1))\n",
    "raw_dataframe['alcohol'] = raw_dataframe['alcohol'].str.replace('.', '')\n",
    "raw_dataframe['alcohol'] = raw_dataframe['alcohol'].str.replace(',', '.')\n",
    "raw_dataframe['alcohol'] = raw_dataframe['alcohol'].astype(float)\n",
    "\n",
    "# convierte alchol a de object a float"
   ]
  },
  {
   "cell_type": "code",
   "execution_count": 34,
   "metadata": {},
   "outputs": [
    {
     "name": "stdout",
     "output_type": "stream",
     "text": [
      "alcohol\n",
      "956.666667     1\n",
      "923.333333     1\n",
      "135.666667     1\n",
      "110.666667     1\n",
      "100.333333     2\n",
      "14.900000      1\n",
      "14.000000      9\n",
      "13.700000      2\n",
      "13.600000      4\n",
      "13.500000      5\n",
      "13.400000      6\n",
      "13.300000      6\n",
      "13.200000      2\n",
      "13.100000      4\n",
      "13.000000     16\n",
      "Name: count, dtype: int64\n"
     ]
    }
   ],
   "source": [
    "#raw_dataframe.info()\n",
    "pf = raw_dataframe[\"alcohol\"].value_counts().sort_index(ascending=False)\n",
    "grupos_con_mas_de_x = pf[pf.index >= 13]\n",
    "print(grupos_con_mas_de_x)\n",
    "#raw_dataframe[\"alcohol\"].value_counts().sort_values(ascending=False) "
   ]
  },
  {
   "cell_type": "code",
   "execution_count": 35,
   "metadata": {},
   "outputs": [
    {
     "data": {
      "text/plain": [
       "'\\ngrupo = raw_dataframe.groupby(\\'alcohol\\')\\nconteo_por_grupo = grupo.size().sort_index(ascending=False)\\nprint(conteo_por_grupo) \\n\\ntodo esto hace lo mismo que la siguiente linea\\nraw_dataframe[\"alcohol\"].value_counts().sort_index(ascending=False)\\n'"
      ]
     },
     "execution_count": 35,
     "metadata": {},
     "output_type": "execute_result"
    }
   ],
   "source": [
    "\"\"\"\n",
    "grupo = raw_dataframe.groupby('alcohol')\n",
    "conteo_por_grupo = grupo.size().sort_index(ascending=False)\n",
    "print(conteo_por_grupo) \n",
    "\n",
    "todo esto hace lo mismo que la siguiente linea\n",
    "raw_dataframe[\"alcohol\"].value_counts().sort_index(ascending=False)\n",
    "\"\"\"\n"
   ]
  },
  {
   "cell_type": "code",
   "execution_count": 36,
   "metadata": {},
   "outputs": [
    {
     "data": {
      "text/plain": [
       "alcohol\n",
       "14.9     1\n",
       "14.0     9\n",
       "13.7     2\n",
       "13.6     4\n",
       "13.5     5\n",
       "        ..\n",
       "8.7     25\n",
       "8.6      7\n",
       "8.5      2\n",
       "8.4      2\n",
       "8.0      2\n",
       "Name: count, Length: 64, dtype: int64"
      ]
     },
     "execution_count": 36,
     "metadata": {},
     "output_type": "execute_result"
    }
   ],
   "source": [
    "condicion = raw_dataframe['alcohol'] <= 15 \n",
    "df_filtrado = raw_dataframe[condicion]\n",
    "# elimino filas del dataframe en base a la condicion definida\n",
    "\n",
    "df_filtrado[\"alcohol\"].value_counts().sort_index(ascending=False)\n",
    "# elimina los registros donde el valor de b5\n"
   ]
  },
  {
   "cell_type": "code",
   "execution_count": 37,
   "metadata": {},
   "outputs": [
    {
     "data": {
      "text/plain": [
       "alcohol\n",
       "14.9     1\n",
       "14.0     9\n",
       "13.7     2\n",
       "13.6     4\n",
       "13.5     5\n",
       "        ..\n",
       "8.7     25\n",
       "8.6      7\n",
       "8.5      2\n",
       "8.4      2\n",
       "8.0      2\n",
       "Name: count, Length: 64, dtype: int64"
      ]
     },
     "execution_count": 37,
     "metadata": {},
     "output_type": "execute_result"
    }
   ],
   "source": [
    "condicion = raw_dataframe['alcohol'] <= 15 \n",
    "df_filtrado = raw_dataframe[condicion]\n",
    "# elimino filas del dataframe en base a la condicion definida\n",
    "\n",
    "df_filtrado[\"alcohol\"].value_counts().sort_index(ascending=False)\n",
    "# elimina los registros donde el valor de la variable alcohol es mayor a 15"
   ]
  }
 ],
 "metadata": {
  "kernelspec": {
   "display_name": "ambiente_tp_especial",
   "language": "python",
   "name": "python3"
  },
  "language_info": {
   "codemirror_mode": {
    "name": "ipython",
    "version": 3
   },
   "file_extension": ".py",
   "mimetype": "text/x-python",
   "name": "python",
   "nbconvert_exporter": "python",
   "pygments_lexer": "ipython3",
   "version": "3.12.5"
  }
 },
 "nbformat": 4,
 "nbformat_minor": 2
}
